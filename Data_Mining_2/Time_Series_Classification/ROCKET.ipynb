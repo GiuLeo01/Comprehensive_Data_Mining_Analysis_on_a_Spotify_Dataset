{
 "cells": [
  {
   "cell_type": "code",
   "execution_count": 1,
   "metadata": {},
   "outputs": [],
   "source": [
    "import numpy as np\n",
    "import pandas as pd\n",
    "from utils import  amplitude_scaling, load_dataset, save_distance_matrix\n",
    "from sklearn.neighbors import KNeighborsClassifier\n",
    "from dtaidistance import dtw\n",
    "from sklearn.metrics import classification_report \n",
    "from sklearn.model_selection import GridSearchCV, cross_val_predict\n",
    "from utils import dtw_dist, decode_y, top_flop_f1\n",
    "from pipeline import Pipeline\n",
    "from sklearn.metrics import (\n",
    "    accuracy_score,\n",
    "    f1_score,\n",
    "    classification_report,\n",
    "    confusion_matrix,\n",
    "    roc_auc_score,\n",
    "    make_scorer\n",
    ")\n",
    "from scikitplot.metrics import plot_roc\n",
    "from scikitplot.metrics import plot_precision_recall\n",
    "import matplotlib.pyplot as plt"
   ]
  },
  {
   "cell_type": "markdown",
   "metadata": {},
   "source": [
    "# TS APPROX"
   ]
  },
  {
   "cell_type": "code",
   "execution_count": 2,
   "metadata": {},
   "outputs": [],
   "source": [
    "X_train_paa, y_train_paa, X_test_paa, y_test_paa, enc_dict = load_dataset('../dataset_ts/ts_data_paa128.npz')"
   ]
  },
  {
   "cell_type": "code",
   "execution_count": 3,
   "metadata": {},
   "outputs": [],
   "source": [
    "X_train_paa_scaled = np.squeeze(X_train_paa)\n",
    "X_test_paa_scaled = np.squeeze(X_test_paa)\n",
    "y_train_paa_scaled = y_train_paa\n",
    "y_test_paa_scaled = y_test_paa\n",
    "X_train_paa_scaled = np.expand_dims(X_train_paa_scaled, axis=1)\n",
    "X_test_paa_scaled = np.expand_dims(X_test_paa_scaled, axis=1)"
   ]
  },
  {
   "cell_type": "code",
   "execution_count": 5,
   "metadata": {},
   "outputs": [],
   "source": [
    "\"\"\"\n",
    "#PER AMPLITUDE SCALING, non utilizzato\n",
    "X_train_paa_scaled, y_train_paa_scaled = amplitude_scaling(X_train_paa, y_train_paa)\n",
    "X_test_paa_scaled, y_test_paa_scaled = amplitude_scaling(X_test_paa, y_test_paa)\n",
    "\n",
    "X_train_paa_scaled = np.expand_dims(X_train_paa_scaled, axis=1)\n",
    "X_test_paa_scaled = np.expand_dims(X_test_paa_scaled, axis=1)\n",
    "\"\"\""
   ]
  },
  {
   "cell_type": "code",
   "execution_count": 4,
   "metadata": {},
   "outputs": [
    {
     "data": {
      "text/plain": [
       "((7500, 1, 128), 2283.4902478449)"
      ]
     },
     "execution_count": 4,
     "metadata": {},
     "output_type": "execute_result"
    }
   ],
   "source": [
    "X_train_paa_scaled.shape, np.mean(X_train_paa_scaled[0,:,:])"
   ]
  },
  {
   "cell_type": "code",
   "execution_count": 5,
   "metadata": {},
   "outputs": [],
   "source": [
    "from sktime.classification.kernel_based import RocketClassifier"
   ]
  },
  {
   "cell_type": "markdown",
   "metadata": {},
   "source": [
    "### Test Results"
   ]
  },
  {
   "cell_type": "code",
   "execution_count": 6,
   "metadata": {},
   "outputs": [
    {
     "name": "stdout",
     "output_type": "stream",
     "text": [
      "                   precision    recall  f1-score   support\n",
      "\n",
      "              emo       0.18      0.17      0.17       125\n",
      "             folk       0.07      0.06      0.07       125\n",
      "             goth       0.06      0.06      0.06       125\n",
      "            happy       0.46      0.58      0.51       125\n",
      "      heavy-metal       0.11      0.12      0.12       125\n",
      "       honky-tonk       0.23      0.23      0.23       125\n",
      "           j-idol       0.17      0.18      0.17       125\n",
      "             kids       0.14      0.15      0.14       125\n",
      "   minimal-techno       0.58      0.61      0.59       125\n",
      "              mpb       0.07      0.06      0.07       125\n",
      "          new-age       0.20      0.25      0.22       125\n",
      "            opera       0.23      0.26      0.24       125\n",
      "            piano       0.15      0.14      0.14       125\n",
      "progressive-house       0.33      0.34      0.34       125\n",
      "            salsa       0.20      0.18      0.19       125\n",
      "        sertanejo       0.15      0.13      0.14       125\n",
      "            sleep       0.27      0.23      0.25       125\n",
      "       songwriter       0.12      0.10      0.11       125\n",
      "        synth-pop       0.27      0.28      0.27       125\n",
      "      world-music       0.16      0.14      0.15       125\n",
      "\n",
      "         accuracy                           0.21      2500\n",
      "        macro avg       0.21      0.21      0.21      2500\n",
      "     weighted avg       0.21      0.21      0.21      2500\n",
      "\n"
     ]
    }
   ],
   "source": [
    "rocket = RocketClassifier(n_jobs=-1, rocket_transform='rocket')\n",
    "rocket.fit(X_train_paa, y_train_paa)\n",
    "y_pred = rocket.predict(X_test_paa)\n",
    "print(classification_report(decode_y(y_test_paa, enc_dict), decode_y(y_pred, enc_dict)))"
   ]
  },
  {
   "cell_type": "markdown",
   "metadata": {},
   "source": [
    "### TS RAW"
   ]
  },
  {
   "cell_type": "code",
   "execution_count": 7,
   "metadata": {},
   "outputs": [],
   "source": [
    "X_train, y_train, X_test, y_test, enc_dict = load_dataset('../dataset_ts/ts_data_raw.npz')"
   ]
  },
  {
   "cell_type": "code",
   "execution_count": 8,
   "metadata": {},
   "outputs": [],
   "source": [
    "X_train_scaled = np.squeeze(X_train)\n",
    "X_test_scaled = np.squeeze(X_test)\n",
    "y_train_scaled = y_train\n",
    "y_test_scaled = y_test\n",
    "X_train_scaled = np.expand_dims(X_train_scaled, axis=1)\n",
    "X_test_scaled = np.expand_dims(X_test_scaled, axis=1)"
   ]
  },
  {
   "cell_type": "code",
   "execution_count": 16,
   "metadata": {},
   "outputs": [],
   "source": [
    "\"\"\"\n",
    "#PER AMPLITUDE SCALING, non utilizzato\n",
    "X_train_scaled, y_train_scaled = amplitude_scaling(X_train, y_train)\n",
    "X_test_scaled, y_test_scaled = amplitude_scaling(X_test, y_test)\n",
    "\n",
    "X_train_scaled = np.expand_dims(X_train_scaled, axis=1)\n",
    "X_test_scaled = np.expand_dims(X_test_scaled, axis=1)\n",
    "\"\"\""
   ]
  },
  {
   "cell_type": "markdown",
   "metadata": {},
   "source": [
    "### Test Results"
   ]
  },
  {
   "cell_type": "code",
   "execution_count": 9,
   "metadata": {},
   "outputs": [
    {
     "name": "stdout",
     "output_type": "stream",
     "text": [
      "                   precision    recall  f1-score   support\n",
      "\n",
      "              emo       0.35      0.32      0.34       125\n",
      "             folk       0.15      0.12      0.13       125\n",
      "             goth       0.15      0.09      0.11       125\n",
      "            happy       0.71      0.78      0.75       125\n",
      "      heavy-metal       0.35      0.41      0.38       125\n",
      "       honky-tonk       0.49      0.54      0.51       125\n",
      "           j-idol       0.38      0.34      0.36       125\n",
      "             kids       0.25      0.27      0.26       125\n",
      "   minimal-techno       0.68      0.72      0.70       125\n",
      "              mpb       0.15      0.13      0.14       125\n",
      "          new-age       0.37      0.42      0.39       125\n",
      "            opera       0.44      0.50      0.47       125\n",
      "            piano       0.42      0.44      0.43       125\n",
      "progressive-house       0.52      0.52      0.52       125\n",
      "            salsa       0.57      0.67      0.62       125\n",
      "        sertanejo       0.28      0.30      0.29       125\n",
      "            sleep       0.62      0.64      0.63       125\n",
      "       songwriter       0.17      0.17      0.17       125\n",
      "        synth-pop       0.32      0.28      0.30       125\n",
      "      world-music       0.27      0.27      0.27       125\n",
      "\n",
      "         accuracy                           0.40      2500\n",
      "        macro avg       0.38      0.40      0.39      2500\n",
      "     weighted avg       0.38      0.40      0.39      2500\n",
      "\n"
     ]
    }
   ],
   "source": [
    "rocket = RocketClassifier(n_jobs=-1, rocket_transform='rocket')\n",
    "rocket.fit(X_train_scaled, y_train_scaled)\n",
    "y_pred = rocket.predict(X_test_scaled)\n",
    "print(classification_report(decode_y(y_test_scaled, enc_dict), decode_y(y_pred, enc_dict)))"
   ]
  },
  {
   "cell_type": "code",
   "execution_count": null,
   "metadata": {},
   "outputs": [],
   "source": []
  }
 ],
 "metadata": {
  "kernelspec": {
   "display_name": "DEEPL",
   "language": "python",
   "name": "python3"
  },
  "language_info": {
   "codemirror_mode": {
    "name": "ipython",
    "version": 3
   },
   "file_extension": ".py",
   "mimetype": "text/x-python",
   "name": "python",
   "nbconvert_exporter": "python",
   "pygments_lexer": "ipython3",
   "version": "3.10.13"
  }
 },
 "nbformat": 4,
 "nbformat_minor": 2
}
